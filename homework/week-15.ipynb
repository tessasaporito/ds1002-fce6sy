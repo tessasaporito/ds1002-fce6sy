{
  "nbformat": 4,
  "nbformat_minor": 0,
  "metadata": {
    "colab": {
      "provenance": [],
      "include_colab_link": true
    },
    "kernelspec": {
      "name": "ir",
      "display_name": "R"
    },
    "language_info": {
      "name": "R"
    }
  },
  "cells": [
    {
      "cell_type": "markdown",
      "metadata": {
        "id": "view-in-github",
        "colab_type": "text"
      },
      "source": [
        "<a href=\"https://colab.research.google.com/github/tessasaporito/ds1002-fce6sy/blob/main/homework/week-15.ipynb\" target=\"_parent\"><img src=\"https://colab.research.google.com/assets/colab-badge.svg\" alt=\"Open In Colab\"/></a>"
      ]
    },
    {
      "cell_type": "markdown",
      "source": [
        "# Homework - Week 15\n",
        "\n",
        "Complete the following blocks as specified in the directions. Run each cell to return the desired output. Save your notebook back to your GitHub repository and submit the GitHub URL to your notebook for review."
      ],
      "metadata": {
        "id": "sZruw3XQogej"
      }
    },
    {
      "cell_type": "code",
      "source": [
        "library(ggplot2)\n",
        "library(dplyr)"
      ],
      "metadata": {
        "id": "2l87fqwdrX3Z"
      },
      "execution_count": 14,
      "outputs": []
    },
    {
      "cell_type": "markdown",
      "source": [
        "## 1. Create Functions (4 pts)\n",
        "\n",
        "Create two functions in the cells below, according to the prompts given."
      ],
      "metadata": {
        "id": "lkaofBQypx1X"
      }
    },
    {
      "cell_type": "code",
      "source": [
        "# create a function in R that:\n",
        "#   1. takes a single integer as an input parameter\n",
        "#   2. determines whether the integer is even or odd\n",
        "#   3. returns a character statement \"The integer <x> is even\" or \"The integer <x> is odd\" (replace <x> with the actual input provided)\n",
        "#\n",
        "# then execute the function twice using two different input values, displaying even and odd results.\n",
        "\n",
        "even_odd <- function(x) {\n",
        "  if (x %% 2 == 0) {\n",
        "    print(paste(\"The integer\", x, \"is even\"))\n",
        "  } else {\n",
        "    print(paste(\"The integer\", x, \"is odd\"))\n",
        "  }\n",
        "}"
      ],
      "metadata": {
        "id": "1fjq5bkEp6Zv"
      },
      "execution_count": 15,
      "outputs": []
    },
    {
      "cell_type": "code",
      "source": [
        "even_odd(2)"
      ],
      "metadata": {
        "colab": {
          "base_uri": "https://localhost:8080/"
        },
        "id": "lp1okMUCmA7T",
        "outputId": "9a151736-a080-4b3e-c18d-5d4691beb58d"
      },
      "execution_count": 16,
      "outputs": [
        {
          "output_type": "stream",
          "name": "stdout",
          "text": [
            "[1] \"The integer 2 is even\"\n"
          ]
        }
      ]
    },
    {
      "cell_type": "code",
      "source": [
        "even_odd(3)"
      ],
      "metadata": {
        "colab": {
          "base_uri": "https://localhost:8080/"
        },
        "id": "14XJpSrQmE3r",
        "outputId": "3e0d0097-a96b-48ac-ffba-f973e7535157"
      },
      "execution_count": 17,
      "outputs": [
        {
          "output_type": "stream",
          "name": "stdout",
          "text": [
            "[1] \"The integer 3 is odd\"\n"
          ]
        }
      ]
    },
    {
      "cell_type": "code",
      "source": [
        "# create a function in R that:\n",
        "#   1. takes 4 integer input parameters\n",
        "#   2. returns the mean value of the inputs\n",
        "#   3. has default values for the 4 input parameters, in case they are not provided when the function is called.\n",
        "#\n",
        "# then execute the function twice: once where you provide the input values, and once where you do not.\n",
        "\n",
        "calc_mean <- function(a = 1, b = 1, c = 1, d = 1) {\n",
        "  return (mean(c(a, b, c, d)))\n",
        "}"
      ],
      "metadata": {
        "id": "f3IFD-T6p6Rd"
      },
      "execution_count": 18,
      "outputs": []
    },
    {
      "cell_type": "code",
      "source": [
        "print(calc_mean(86,42,12,5))"
      ],
      "metadata": {
        "colab": {
          "base_uri": "https://localhost:8080/"
        },
        "id": "SwtFc-IPo411",
        "outputId": "f198b636-0a31-48ed-8cf5-5ccd2edc8c18"
      },
      "execution_count": 19,
      "outputs": [
        {
          "output_type": "stream",
          "name": "stdout",
          "text": [
            "[1] 36.25\n"
          ]
        }
      ]
    },
    {
      "cell_type": "code",
      "source": [
        "print(calc_mean())"
      ],
      "metadata": {
        "colab": {
          "base_uri": "https://localhost:8080/"
        },
        "id": "ItAyBB73o7VL",
        "outputId": "19037548-8b25-4855-9544-e0b7ab1b9f08"
      },
      "execution_count": 20,
      "outputs": [
        {
          "output_type": "stream",
          "name": "stdout",
          "text": [
            "[1] 1\n"
          ]
        }
      ]
    },
    {
      "cell_type": "markdown",
      "source": [
        "## 2. Plot Data (4 pts)"
      ],
      "metadata": {
        "id": "F6Rx0GIGrpOB"
      }
    },
    {
      "cell_type": "markdown",
      "source": [
        "In the cell below, write the code required to plot from the `msleep` sample data set.\n",
        "\n",
        "1. Display only animals with body weights of 30 or greater.\n",
        "2. Group the animals by `order`.\n",
        "3. Display the mean `sleep_total` for each group in a bar plot."
      ],
      "metadata": {
        "id": "IDLyOjOJsFCX"
      }
    },
    {
      "cell_type": "code",
      "source": [
        "data(msleep)"
      ],
      "metadata": {
        "id": "GVnXXJwspbh9"
      },
      "execution_count": 21,
      "outputs": []
    },
    {
      "cell_type": "code",
      "source": [
        "new_msleep <- msleep %>%\n",
        "  filter(bodywt >= 30) %>%\n",
        "  group_by(order) %>%\n",
        "  summarize(mean_sleep = mean(sleep_total, na.rm = TRUE))"
      ],
      "metadata": {
        "id": "L5NP1s7HnK1y"
      },
      "execution_count": 22,
      "outputs": []
    },
    {
      "cell_type": "code",
      "source": [
        "ggplot(new_msleep, aes(x = order, y = mean_sleep)) +\n",
        "  geom_bar(stat = \"identity\") +\n",
        "  labs(title = \"Mean Sleep by Order\",\n",
        "       x = \"Order\",\n",
        "       y = \"Mean Total Sleep Hours\")"
      ],
      "metadata": {
        "colab": {
          "base_uri": "https://localhost:8080/",
          "height": 437
        },
        "id": "X1KbA0p5nPVU",
        "outputId": "f91154cf-6314-4c99-acdb-2d9cf5d6a011"
      },
      "execution_count": 23,
      "outputs": [
        {
          "output_type": "display_data",
          "data": {
            "text/plain": [
              "plot without title"
            ],
            "image/png": "[encoded data removed]"
          },
          "metadata": {
            "image/png": {
              "width": 420,
              "height": 420
            }
          }
        }
      ]
    },
    {
      "cell_type": "markdown",
      "source": [
        "## 3. Clean and Analyze Data Using R (4 pts)\n",
        "\n",
        "In the cells below use R to perform the following data cleaning steps on this file:\n",
        "https://raw.githubusercontent.com/nmagee/ds1002/main/data/social-media-users.csv\n",
        "\n",
        "1. Remove any duplicate rows.\n",
        "2. Remove any records where `last_login` or `birthdate` are empty.\n",
        "3. Display only the records with the 10 highest `follower` counts.\n",
        "4. Determine counts of users when grouped by continent."
      ],
      "metadata": {
        "id": "-2ZaFcCCv3o8"
      }
    },
    {
      "cell_type": "code",
      "source": [
        "df<-read.csv('https://raw.githubusercontent.com/nmagee/ds1002/main/data/social-media-users.csv')"
      ],
      "metadata": {
        "id": "V4nBsdVsyauQ"
      },
      "execution_count": 24,
      "outputs": []
    },
    {
      "cell_type": "code",
      "source": [
        "df <- df[!duplicated(df), ]"
      ],
      "metadata": {
        "id": "LwXD1sNulIT3"
      },
      "execution_count": 25,
      "outputs": []
    },
    {
      "cell_type": "code",
      "source": [
        "df[df==\"\"] <- NA\n",
        "df <- na.omit(df)"
      ],
      "metadata": {
        "id": "ufgiXLxpuxdD"
      },
      "execution_count": 26,
      "outputs": []
    },
    {
      "cell_type": "code",
      "source": [
        "df_top_followers <- df[order(-df$followers), ][1:10, ]\n",
        "df_top_followers"
      ],
      "metadata": {
        "colab": {
          "base_uri": "https://localhost:8080/",
          "height": 412
        },
        "id": "Xykv1JE1wNTg",
        "outputId": "58701f0d-4f30-45ae-ab44-74e5318e16ea"
      },
      "execution_count": 27,
      "outputs": [
        {
          "output_type": "display_data",
          "data": {
            "text/html": [
              "<table class=\"dataframe\">\n",
              "<caption>A data.frame: 10 × 8</caption>\n",
              "<thead>\n",
              "\t<tr><th></th><th scope=col>username</th><th scope=col>full_name</th><th scope=col>birthdate</th><th scope=col>email</th><th scope=col>continent</th><th scope=col>followers</th><th scope=col>last_login</th><th scope=col>interests</th></tr>\n",
              "\t<tr><th></th><th scope=col>&lt;chr&gt;</th><th scope=col>&lt;chr&gt;</th><th scope=col>&lt;chr&gt;</th><th scope=col>&lt;chr&gt;</th><th scope=col>&lt;chr&gt;</th><th scope=col>&lt;int&gt;</th><th scope=col>&lt;chr&gt;</th><th scope=col>&lt;chr&gt;</th></tr>\n",
              "</thead>\n",
              "<tbody>\n",
              "\t<tr><th scope=row>721</th><td>lleckeyb6    </td><td>Lynne Leckey        </td><td>4/19/1998 </td><td>lleckeyb6@tripadvisor.com</td><td>SA</td><td>99977</td><td>3/14/2021 </td><td>sports</td></tr>\n",
              "\t<tr><th scope=row>821</th><td>cduftondy    </td><td>Celisse Dufton      </td><td>8/24/1995 </td><td>cduftondy@ox.ac.uk       </td><td>OC</td><td>99707</td><td>9/26/2021 </td><td>sports</td></tr>\n",
              "\t<tr><th scope=row>578</th><td>dbartalin77  </td><td>Desiree Bartalin    </td><td>8/23/1993 </td><td>dbartalin77@usda.gov     </td><td>AF</td><td>99618</td><td>5/30/2022 </td><td>music </td></tr>\n",
              "\t<tr><th scope=row>1136</th><td>grivardmp    </td><td>Gwen Rivard         </td><td>9/12/1982 </td><td>grivardmp@google.com.hk  </td><td>OC</td><td>99526</td><td>4/4/2020  </td><td>music </td></tr>\n",
              "\t<tr><th scope=row>960</th><td>kmorriceht   </td><td>Kitti Morrice       </td><td>6/3/1995  </td><td>kmorriceht@privacy.gov.au</td><td>SA</td><td>98936</td><td>3/24/2021 </td><td>sports</td></tr>\n",
              "\t<tr><th scope=row>595</th><td>smacdonnell7o</td><td>Shoshanna MacDonnell</td><td>9/12/2002 </td><td>smacdonnell7o@toplist.cz </td><td>AS</td><td>98760</td><td>7/20/2021 </td><td>music </td></tr>\n",
              "\t<tr><th scope=row>1264</th><td>ebroomq9     </td><td>Early Broom         </td><td>3/10/2000 </td><td>ebroomq9@fastcompany.com </td><td>AF</td><td>98606</td><td>10/22/2023</td><td>sports</td></tr>\n",
              "\t<tr><th scope=row>164</th><td>schapell4j   </td><td>Shepard Chapell     </td><td>9/3/1993  </td><td>schapell4j@noaa.gov      </td><td>AS</td><td>98479</td><td>2/14/2021 </td><td>music </td></tr>\n",
              "\t<tr><th scope=row>1243</th><td>tbaptiepo    </td><td>Thorvald Baptie     </td><td>10/23/1981</td><td>tbaptiepo@indiegogo.com  </td><td>OC</td><td>98233</td><td>5/27/2022 </td><td>sports</td></tr>\n",
              "\t<tr><th scope=row>1257</th><td>nbarbeyq2    </td><td>Nelson Barbey       </td><td>12/15/1984</td><td>nbarbeyq2@histats.com    </td><td>OC</td><td>98172</td><td>6/18/2022 </td><td>music </td></tr>\n",
              "</tbody>\n",
              "</table>\n"
            ],
            "text/markdown": "\nA data.frame: 10 × 8\n\n| <!--/--> | username &lt;chr&gt; | full_name &lt;chr&gt; | birthdate &lt;chr&gt; | email &lt;chr&gt; | continent &lt;chr&gt; | followers &lt;int&gt; | last_login &lt;chr&gt; | interests &lt;chr&gt; |\n|---|---|---|---|---|---|---|---|---|\n| 721 | lleckeyb6     | Lynne Leckey         | 4/19/1998  | lleckeyb6@tripadvisor.com | SA | 99977 | 3/14/2021  | sports |\n| 821 | cduftondy     | Celisse Dufton       | 8/24/1995  | cduftondy@ox.ac.uk        | OC | 99707 | 9/26/2021  | sports |\n| 578 | dbartalin77   | Desiree Bartalin     | 8/23/1993  | dbartalin77@usda.gov      | AF | 99618 | 5/30/2022  | music  |\n| 1136 | grivardmp     | Gwen Rivard          | 9/12/1982  | grivardmp@google.com.hk   | OC | 99526 | 4/4/2020   | music  |\n| 960 | kmorriceht    | Kitti Morrice        | 6/3/1995   | kmorriceht@privacy.gov.au | SA | 98936 | 3/24/2021  | sports |\n| 595 | smacdonnell7o | Shoshanna MacDonnell | 9/12/2002  | smacdonnell7o@toplist.cz  | AS | 98760 | 7/20/2021  | music  |\n| 1264 | ebroomq9      | Early Broom          | 3/10/2000  | ebroomq9@fastcompany.com  | AF | 98606 | 10/22/2023 | sports |\n| 164 | schapell4j    | Shepard Chapell      | 9/3/1993   | schapell4j@noaa.gov       | AS | 98479 | 2/14/2021  | music  |\n| 1243 | tbaptiepo     | Thorvald Baptie      | 10/23/1981 | tbaptiepo@indiegogo.com   | OC | 98233 | 5/27/2022  | sports |\n| 1257 | nbarbeyq2     | Nelson Barbey        | 12/15/1984 | nbarbeyq2@histats.com     | OC | 98172 | 6/18/2022  | music  |\n\n",
            "text/latex": "A data.frame: 10 × 8\n\\begin{tabular}{r|llllllll}\n  & username & full\\_name & birthdate & email & continent & followers & last\\_login & interests\\\\\n  & <chr> & <chr> & <chr> & <chr> & <chr> & <int> & <chr> & <chr>\\\\\n\\hline\n\t721 & lleckeyb6     & Lynne Leckey         & 4/19/1998  & lleckeyb6@tripadvisor.com & SA & 99977 & 3/14/2021  & sports\\\\\n\t821 & cduftondy     & Celisse Dufton       & 8/24/1995  & cduftondy@ox.ac.uk        & OC & 99707 & 9/26/2021  & sports\\\\\n\t578 & dbartalin77   & Desiree Bartalin     & 8/23/1993  & dbartalin77@usda.gov      & AF & 99618 & 5/30/2022  & music \\\\\n\t1136 & grivardmp     & Gwen Rivard          & 9/12/1982  & grivardmp@google.com.hk   & OC & 99526 & 4/4/2020   & music \\\\\n\t960 & kmorriceht    & Kitti Morrice        & 6/3/1995   & kmorriceht@privacy.gov.au & SA & 98936 & 3/24/2021  & sports\\\\\n\t595 & smacdonnell7o & Shoshanna MacDonnell & 9/12/2002  & smacdonnell7o@toplist.cz  & AS & 98760 & 7/20/2021  & music \\\\\n\t1264 & ebroomq9      & Early Broom          & 3/10/2000  & ebroomq9@fastcompany.com  & AF & 98606 & 10/22/2023 & sports\\\\\n\t164 & schapell4j    & Shepard Chapell      & 9/3/1993   & schapell4j@noaa.gov       & AS & 98479 & 2/14/2021  & music \\\\\n\t1243 & tbaptiepo     & Thorvald Baptie      & 10/23/1981 & tbaptiepo@indiegogo.com   & OC & 98233 & 5/27/2022  & sports\\\\\n\t1257 & nbarbeyq2     & Nelson Barbey        & 12/15/1984 & nbarbeyq2@histats.com     & OC & 98172 & 6/18/2022  & music \\\\\n\\end{tabular}\n",
            "text/plain": [
              "     username      full_name            birthdate  email                    \n",
              "721  lleckeyb6     Lynne Leckey         4/19/1998  lleckeyb6@tripadvisor.com\n",
              "821  cduftondy     Celisse Dufton       8/24/1995  cduftondy@ox.ac.uk       \n",
              "578  dbartalin77   Desiree Bartalin     8/23/1993  dbartalin77@usda.gov     \n",
              "1136 grivardmp     Gwen Rivard          9/12/1982  grivardmp@google.com.hk  \n",
              "960  kmorriceht    Kitti Morrice        6/3/1995   kmorriceht@privacy.gov.au\n",
              "595  smacdonnell7o Shoshanna MacDonnell 9/12/2002  smacdonnell7o@toplist.cz \n",
              "1264 ebroomq9      Early Broom          3/10/2000  ebroomq9@fastcompany.com \n",
              "164  schapell4j    Shepard Chapell      9/3/1993   schapell4j@noaa.gov      \n",
              "1243 tbaptiepo     Thorvald Baptie      10/23/1981 tbaptiepo@indiegogo.com  \n",
              "1257 nbarbeyq2     Nelson Barbey        12/15/1984 nbarbeyq2@histats.com    \n",
              "     continent followers last_login interests\n",
              "721  SA        99977     3/14/2021  sports   \n",
              "821  OC        99707     9/26/2021  sports   \n",
              "578  AF        99618     5/30/2022  music    \n",
              "1136 OC        99526     4/4/2020   music    \n",
              "960  SA        98936     3/24/2021  sports   \n",
              "595  AS        98760     7/20/2021  music    \n",
              "1264 AF        98606     10/22/2023 sports   \n",
              "164  AS        98479     2/14/2021  music    \n",
              "1243 OC        98233     5/27/2022  sports   \n",
              "1257 OC        98172     6/18/2022  music    "
            ]
          },
          "metadata": {}
        }
      ]
    },
    {
      "cell_type": "code",
      "source": [
        "    by_continent <- df %>%\n",
        "      group_by(continent) %>%\n",
        "      summarize(user_count = n())\n",
        "    by_continent\n",
        "\n",
        "\n",
        ""
      ],
      "metadata": {
        "colab": {
          "base_uri": "https://localhost:8080/",
          "height": 255
        },
        "id": "9_p_XkU-x_92",
        "outputId": "cc6e54ab-8d4c-4c03-a091-cb12a6de9e42"
      },
      "execution_count": 28,
      "outputs": [
        {
          "output_type": "display_data",
          "data": {
            "text/html": [
              "<table class=\"dataframe\">\n",
              "<caption>A tibble: 5 × 2</caption>\n",
              "<thead>\n",
              "\t<tr><th scope=col>continent</th><th scope=col>user_count</th></tr>\n",
              "\t<tr><th scope=col>&lt;chr&gt;</th><th scope=col>&lt;int&gt;</th></tr>\n",
              "</thead>\n",
              "<tbody>\n",
              "\t<tr><td>AF</td><td> 70</td></tr>\n",
              "\t<tr><td>AS</td><td>111</td></tr>\n",
              "\t<tr><td>EU</td><td> 77</td></tr>\n",
              "\t<tr><td>OC</td><td> 95</td></tr>\n",
              "\t<tr><td>SA</td><td> 69</td></tr>\n",
              "</tbody>\n",
              "</table>\n"
            ],
            "text/markdown": "\nA tibble: 5 × 2\n\n| continent &lt;chr&gt; | user_count &lt;int&gt; |\n|---|---|\n| AF |  70 |\n| AS | 111 |\n| EU |  77 |\n| OC |  95 |\n| SA |  69 |\n\n",
            "text/latex": "A tibble: 5 × 2\n\\begin{tabular}{ll}\n continent & user\\_count\\\\\n <chr> & <int>\\\\\n\\hline\n\t AF &  70\\\\\n\t AS & 111\\\\\n\t EU &  77\\\\\n\t OC &  95\\\\\n\t SA &  69\\\\\n\\end{tabular}\n",
            "text/plain": [
              "  continent user_count\n",
              "1 AF         70       \n",
              "2 AS        111       \n",
              "3 EU         77       \n",
              "4 OC         95       \n",
              "5 SA         69       "
            ]
          },
          "metadata": {}
        }
      ]
    }
  ]
}