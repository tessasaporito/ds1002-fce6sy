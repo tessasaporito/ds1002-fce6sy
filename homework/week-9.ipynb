{
  "nbformat": 4,
  "nbformat_minor": 0,
  "metadata": {
    "colab": {
      "provenance": [],
      "include_colab_link": true
    },
    "kernelspec": {
      "name": "python3",
      "display_name": "Python 3"
    },
    "language_info": {
      "name": "python"
    }
  },
  "cells": [
    {
      "cell_type": "markdown",
      "metadata": {
        "id": "view-in-github",
        "colab_type": "text"
      },
      "source": [
        "<a href=\"https://colab.research.google.com/github/tessasaporito/ds1002-fce6sy/blob/main/homework/week-9.ipynb\" target=\"_parent\"><img src=\"https://colab.research.google.com/assets/colab-badge.svg\" alt=\"Open In Colab\"/></a>"
      ]
    },
    {
      "cell_type": "markdown",
      "source": [
        "# Homework - Week 9\n",
        "\n",
        "Complete the following blocks as specified in the directions. Run each cell to return the desired output. Save your notebook back to your GitHub repository and submit the GitHub URL to your notebook for review."
      ],
      "metadata": {
        "id": "phbaQTT5gy8A"
      }
    },
    {
      "cell_type": "markdown",
      "source": [
        "## Functions\n",
        "\n",
        "In the cell below define a function that takes one parameter (in the form of a list) called `names` and returns a simple greeting for each name, such as\n",
        "\n",
        "    \"Hello Natasha, it's so nice to meet you\"\n",
        "    \"Hello Sid, it's so nice to meet you\"\n",
        "\n",
        "Define the function and run it, and in another cell below call the function populated with a var of a list of names."
      ],
      "metadata": {
        "id": "38Pg39pMrDua"
      }
    },
    {
      "cell_type": "code",
      "source": [
        "def names(name):\n",
        "  return \"Hello \" + name + \", it's so nice to meet you\"\n"
      ],
      "metadata": {
        "id": "kdFLCHtOg53p"
      },
      "execution_count": 2,
      "outputs": []
    },
    {
      "cell_type": "code",
      "source": [
        "names('Tessa')\n"
      ],
      "metadata": {
        "id": "JlNPe_XUsmog",
        "outputId": "5faed905-f6c3-482b-c3e1-3e95fc051488",
        "colab": {
          "base_uri": "https://localhost:8080/",
          "height": 35
        }
      },
      "execution_count": 3,
      "outputs": [
        {
          "output_type": "execute_result",
          "data": {
            "text/plain": [
              "\"Hello Tessa, it's so nice to meet you\""
            ],
            "application/vnd.google.colaboratory.intrinsic+json": {
              "type": "string"
            }
          },
          "metadata": {},
          "execution_count": 3
        }
      ]
    },
    {
      "cell_type": "markdown",
      "source": [
        "Using the following list, pass it into a function you define that will evaluate the list and return a count of how many items is in it. Be creative.\n",
        "\n",
        "```\n",
        "mylist = [\"Toronto\",\"Buffalo\",\"Syracuse\",\"Albany\",\"Schenectady\",\"Brooklyn\",\"Rome\",\"Ithaca\"]\n",
        "```"
      ],
      "metadata": {
        "id": "mXqNACpkrdUZ"
      }
    },
    {
      "cell_type": "code",
      "source": [
        "mylist = [\"Toronto\",\"Buffalo\",\"Syracuse\",\"Albany\",\"Schenectady\",\"Brooklyn\",\"Rome\",\"Ithaca\"]"
      ],
      "metadata": {
        "id": "X7wdghfn5_Iw"
      },
      "execution_count": 79,
      "outputs": []
    },
    {
      "cell_type": "code",
      "source": [
        "def count_list(input_list):\n",
        "  return len(input_list)\n",
        "\n",
        "count_list(mylist)"
      ],
      "metadata": {
        "id": "mvxOzRSisg0a",
        "outputId": "50388616-17a9-458c-8bca-a92de6e3b7f6",
        "colab": {
          "base_uri": "https://localhost:8080/"
        }
      },
      "execution_count": 87,
      "outputs": [
        {
          "output_type": "execute_result",
          "data": {
            "text/plain": [
              "8"
            ]
          },
          "metadata": {},
          "execution_count": 87
        }
      ]
    },
    {
      "cell_type": "markdown",
      "source": [
        "## Input Validation\n",
        "\n",
        "Write a function below that defines two input parameters as `bool` and returns a `bool`.\n",
        "In the cell below that, populate two variables with two different bools (True and False)\n",
        "and pass them into a call of your function."
      ],
      "metadata": {
        "id": "YU7FXSCXsFab"
      }
    },
    {
      "cell_type": "code",
      "source": [
        "def boolean(one:bool, two:bool) -> bool:\n",
        "  return one and two"
      ],
      "metadata": {
        "id": "DGMJZjlysfHU"
      },
      "execution_count": 5,
      "outputs": []
    },
    {
      "cell_type": "code",
      "source": [
        "one = True\n",
        "two = True\n",
        "\n",
        "boolean(True, True)"
      ],
      "metadata": {
        "id": "Bxu1sFtQ1KTe",
        "outputId": "506f7bf1-6bfb-4600-b6b2-781a0bdef744",
        "colab": {
          "base_uri": "https://localhost:8080/"
        }
      },
      "execution_count": 6,
      "outputs": [
        {
          "output_type": "execute_result",
          "data": {
            "text/plain": [
              "True"
            ]
          },
          "metadata": {},
          "execution_count": 6
        }
      ]
    },
    {
      "cell_type": "markdown",
      "source": [
        "## Global Variables\n",
        "\n",
        "Define a global variable and populate it with a data type (int, str, bool, float, etc.)"
      ],
      "metadata": {
        "id": "xXZTr5fdsd5M"
      }
    },
    {
      "cell_type": "code",
      "source": [
        "def global_var():\n",
        "  global x\n",
        "  x= 3"
      ],
      "metadata": {
        "id": "HN8CFLVRs6_L"
      },
      "execution_count": 62,
      "outputs": []
    },
    {
      "cell_type": "markdown",
      "source": [
        "Now create a function that prints out the global variable. Call the function and display the value of the var."
      ],
      "metadata": {
        "id": "G1Auc6l1s8F6"
      }
    },
    {
      "cell_type": "code",
      "source": [
        "def global_var():\n",
        "  global x\n",
        "  x=3\n",
        "  return x\n",
        "\n",
        "x"
      ],
      "metadata": {
        "id": "Q6O0Ep_wtBWJ",
        "outputId": "ad7f6194-a9c2-4c1f-9998-71e4b2dde4c2",
        "colab": {
          "base_uri": "https://localhost:8080/"
        }
      },
      "execution_count": 63,
      "outputs": [
        {
          "output_type": "execute_result",
          "data": {
            "text/plain": [
              "5"
            ]
          },
          "metadata": {},
          "execution_count": 63
        }
      ]
    },
    {
      "cell_type": "markdown",
      "source": [
        "Now create a function that creates its own global var and populates it.\n",
        "Call the function and then print out the global var from outside of the function."
      ],
      "metadata": {
        "id": "IN2TRQI8tCC4"
      }
    },
    {
      "cell_type": "code",
      "source": [
        "def global_var2(var1, var2):\n",
        "  global y\n",
        "  y = var1+var2\n",
        "\n",
        "global_var2(3,4)\n",
        "y"
      ],
      "metadata": {
        "id": "FsV9jIk82pWS",
        "outputId": "7c3846af-d0c0-48d9-e730-007c27cf7eb3",
        "colab": {
          "base_uri": "https://localhost:8080/"
        }
      },
      "execution_count": 64,
      "outputs": [
        {
          "output_type": "execute_result",
          "data": {
            "text/plain": [
              "7"
            ]
          },
          "metadata": {},
          "execution_count": 64
        }
      ]
    },
    {
      "cell_type": "markdown",
      "source": [
        "Finally, write a function that updates the value of the global var you defined 3 cells above.\n",
        "\n",
        "1. Within the function, print out the global var you defined 3 cells above.\n",
        "2. Update the global var to have a new value.\n",
        "3. Within the function, print the new value of the global var.\n",
        "\n",
        "Call the function and once more print out the value of the global var from outside of the function."
      ],
      "metadata": {
        "id": "jv0dtym0tLZn"
      }
    },
    {
      "cell_type": "code",
      "source": [
        "def update_global():\n",
        "  print(global_var())\n",
        "  global x\n",
        "  x = 4\n",
        "  return x\n",
        "\n",
        "update_global()"
      ],
      "metadata": {
        "id": "pnX-hfKouLcG",
        "outputId": "af3a46ef-4aad-4cc6-c91e-7bc3a461c65e",
        "colab": {
          "base_uri": "https://localhost:8080/"
        }
      },
      "execution_count": 72,
      "outputs": [
        {
          "output_type": "stream",
          "name": "stdout",
          "text": [
            "3\n"
          ]
        },
        {
          "output_type": "execute_result",
          "data": {
            "text/plain": [
              "4"
            ]
          },
          "metadata": {},
          "execution_count": 72
        }
      ]
    }
  ]
}