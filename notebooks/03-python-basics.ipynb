{
  "cells": [
    {
      "cell_type": "markdown",
      "id": "7f2a553a",
      "metadata": {
        "id": "7f2a553a"
      },
      "source": [
        "# Metadata\n",
        "\n",
        "```\n",
        "Course:      DS 1002\n",
        "Week:        Python Basics\n",
        "Topic:       Python Types, Operators, and Expressions\n",
        "```"
      ]
    },
    {
      "cell_type": "markdown",
      "id": "19ee6f8f",
      "metadata": {
        "id": "19ee6f8f"
      },
      "source": [
        "# Comments"
      ]
    },
    {
      "cell_type": "markdown",
      "id": "2e95d671",
      "metadata": {
        "id": "2e95d671"
      },
      "source": [
        "You can comment out any single line with a # character.\n",
        "    \n",
        "    # Here is a comment\n",
        "\n",
        "You can comment out multiple lines using triple quote marks on both ends.\n",
        "\n",
        "```python\n",
        "\"\"\"\n",
        "Here is a long comment that takes up several lines.\n",
        "I wonder how long it will go?\n",
        "Okay maybe just three lines long\n",
        "\"\"\"\n",
        "```"
      ]
    },
    {
      "cell_type": "markdown",
      "id": "420867eb",
      "metadata": {
        "id": "420867eb"
      },
      "source": [
        "# Reserved Keywords"
      ]
    },
    {
      "cell_type": "markdown",
      "id": "5c1c4907",
      "metadata": {
        "id": "5c1c4907"
      },
      "source": [
        "Reserved keywords have specific meanings and restrictions on how they should be used.\n",
        "\n",
        "More examples:\n",
        "\n",
        "`False`   \n",
        "`await`\n",
        "`else`\n",
        "`import`   \n",
        "`pass`  \n",
        "`None`   \n",
        "`break`   \n",
        "`except`   \n",
        "`in`   \n",
        "`raise`   \n",
        "`True`   \n",
        "`class`   \n",
        "`finally`   \n",
        "`is`\n",
        "`return`   \n",
        "`and`   \n",
        "`continue`   \n",
        "`for`   \n",
        "`lambda`   \n",
        "`try`   \n",
        "`as`   \n",
        "`def`   \n",
        "`from`   \n",
        "`nonlocal`   \n",
        "`while`   \n",
        "`assert`   \n",
        "`del`   \n",
        "`global`\n",
        "`not`   \n",
        "`with`   \n",
        "`async`   \n",
        "`elif`\t  \n",
        "`if`   \n",
        "`or`   \n",
        "`yield`"
      ]
    },
    {
      "cell_type": "markdown",
      "id": "2f7ae123",
      "metadata": {
        "id": "2f7ae123"
      },
      "source": [
        "# Variables & Types"
      ]
    },
    {
      "cell_type": "markdown",
      "id": "92a9caa8",
      "metadata": {
        "id": "92a9caa8"
      },
      "source": [
        "Variables are assigned types **dynamically**."
      ]
    },
    {
      "cell_type": "code",
      "execution_count": 14,
      "id": "fe148025",
      "metadata": {
        "id": "fe148025",
        "outputId": "10494a3e-66a5-44b8-f623-3706cde8ddc1",
        "colab": {
          "base_uri": "https://localhost:8080/"
        }
      },
      "outputs": [
        {
          "output_type": "execute_result",
          "data": {
            "text/plain": [
              "4"
            ]
          },
          "metadata": {},
          "execution_count": 14
        }
      ],
      "source": [
        "# variable name = assigned value\n",
        "x = 4\n",
        "x"
      ]
    },
    {
      "cell_type": "code",
      "execution_count": 15,
      "id": "62a4d6d9",
      "metadata": {
        "id": "62a4d6d9",
        "outputId": "b62d7778-bcf2-423a-b982-e17d2137e997",
        "colab": {
          "base_uri": "https://localhost:8080/"
        }
      },
      "outputs": [
        {
          "output_type": "execute_result",
          "data": {
            "text/plain": [
              "125"
            ]
          },
          "metadata": {},
          "execution_count": 15
        }
      ],
      "source": [
        "y = 100 + 25\n",
        "y"
      ]
    },
    {
      "cell_type": "code",
      "execution_count": 16,
      "id": "ec0ca490",
      "metadata": {
        "id": "ec0ca490",
        "outputId": "6821aa37-540e-4b0b-b8a2-afa6a4be565c",
        "colab": {
          "base_uri": "https://localhost:8080/"
        }
      },
      "outputs": [
        {
          "output_type": "execute_result",
          "data": {
            "text/plain": [
              "4"
            ]
          },
          "metadata": {},
          "execution_count": 16
        }
      ],
      "source": [
        "# can type variable to get value\n",
        "x"
      ]
    },
    {
      "cell_type": "code",
      "execution_count": 17,
      "id": "bfb5dda2",
      "metadata": {
        "id": "bfb5dda2",
        "outputId": "3b407596-1ba2-4448-9212-a7e00fb6cea6",
        "colab": {
          "base_uri": "https://localhost:8080/"
        }
      },
      "outputs": [
        {
          "output_type": "stream",
          "name": "stdout",
          "text": [
            "4\n"
          ]
        }
      ],
      "source": [
        "# can use print() function to view assigned value\n",
        "# the print() function has a lot of uses and will be discussed later\n",
        "print(x)"
      ]
    },
    {
      "cell_type": "code",
      "execution_count": 18,
      "id": "256e6b1c",
      "metadata": {
        "id": "256e6b1c",
        "outputId": "53d55a4c-80a1-4349-b439-740a0eea7fb2",
        "colab": {
          "base_uri": "https://localhost:8080/"
        }
      },
      "outputs": [
        {
          "output_type": "execute_result",
          "data": {
            "text/plain": [
              "5"
            ]
          },
          "metadata": {},
          "execution_count": 18
        }
      ],
      "source": [
        "# reassign variable\n",
        "x = 5\n",
        "x"
      ]
    },
    {
      "cell_type": "code",
      "execution_count": 19,
      "id": "358db343",
      "metadata": {
        "id": "358db343",
        "outputId": "c36d2326-e301-4d9d-ca06-dedf79653ee9",
        "colab": {
          "base_uri": "https://localhost:8080/"
        }
      },
      "outputs": [
        {
          "output_type": "execute_result",
          "data": {
            "text/plain": [
              "130"
            ]
          },
          "metadata": {},
          "execution_count": 19
        }
      ],
      "source": [
        "# variable arithmetic\n",
        "x + y"
      ]
    },
    {
      "cell_type": "code",
      "execution_count": 20,
      "id": "2f439542",
      "metadata": {
        "id": "2f439542"
      },
      "outputs": [],
      "source": [
        "# variables of other data types\n",
        "float_var = 4.22\n",
        "string_var = 'virginia'\n",
        "bool_var = True"
      ]
    },
    {
      "cell_type": "code",
      "execution_count": 13,
      "id": "c7450065",
      "metadata": {
        "id": "c7450065",
        "outputId": "9b38af1b-81dd-4659-c1b8-323c7f1e4cbf",
        "colab": {
          "base_uri": "https://localhost:8080/"
        }
      },
      "outputs": [
        {
          "output_type": "execute_result",
          "data": {
            "text/plain": [
              "float"
            ]
          },
          "metadata": {},
          "execution_count": 13
        }
      ],
      "source": [
        "type(float_var) # gives you type of data variable is holding"
      ]
    },
    {
      "cell_type": "code",
      "execution_count": null,
      "id": "2a29aba5",
      "metadata": {
        "id": "2a29aba5"
      },
      "outputs": [],
      "source": [
        "# delete a variable with function del()\n",
        "del(x)\n",
        "\n"
      ]
    },
    {
      "cell_type": "markdown",
      "id": "df67456e",
      "metadata": {
        "id": "df67456e"
      },
      "source": [
        "## Object ID\n",
        "\n",
        "Every variable created in Python is given a unique ID.\n",
        "\n",
        "This ID where the variable is stored in memory. The ID is for the variable, not the variable's value.\n",
        "\n",
        "> Exception: if the number is between -5 - 256 or a simple string with no spaces, it will not be given a unique id for memory optimization purposes\n",
        "\n",
        "We can find an object's ID using `id()`"
      ]
    },
    {
      "cell_type": "code",
      "execution_count": 21,
      "id": "a2e0fa0b",
      "metadata": {
        "id": "a2e0fa0b"
      },
      "outputs": [],
      "source": [
        "a = 278"
      ]
    },
    {
      "cell_type": "code",
      "execution_count": 22,
      "id": "015e463c",
      "metadata": {
        "id": "015e463c"
      },
      "outputs": [],
      "source": [
        "b = 278"
      ]
    },
    {
      "cell_type": "code",
      "execution_count": 23,
      "id": "98300a13",
      "metadata": {
        "id": "98300a13",
        "outputId": "26ed4520-5bdb-4873-9d08-dfe4db5820c9",
        "colab": {
          "base_uri": "https://localhost:8080/"
        }
      },
      "outputs": [
        {
          "output_type": "stream",
          "name": "stdout",
          "text": [
            "137718135530032\n",
            "137718135530736\n"
          ]
        }
      ],
      "source": [
        "print(id(a))\n",
        "print(id(b))"
      ]
    },
    {
      "cell_type": "code",
      "execution_count": 24,
      "id": "5608f8f6",
      "metadata": {
        "id": "5608f8f6",
        "outputId": "08edc4db-dc55-4311-b95a-0057ae2c940f",
        "colab": {
          "base_uri": "https://localhost:8080/"
        }
      },
      "outputs": [
        {
          "output_type": "execute_result",
          "data": {
            "text/plain": [
              "True"
            ]
          },
          "metadata": {},
          "execution_count": 24
        }
      ],
      "source": [
        "a == b # 2 = 2"
      ]
    },
    {
      "cell_type": "code",
      "execution_count": 25,
      "id": "7509da98",
      "metadata": {
        "id": "7509da98",
        "outputId": "83d552b1-e593-439a-dd80-058ea70fc81e",
        "colab": {
          "base_uri": "https://localhost:8080/"
        }
      },
      "outputs": [
        {
          "output_type": "execute_result",
          "data": {
            "text/plain": [
              "False"
            ]
          },
          "metadata": {},
          "execution_count": 25
        }
      ],
      "source": [
        "id(a) == id(b)"
      ]
    },
    {
      "cell_type": "markdown",
      "id": "c2b08e1b",
      "metadata": {
        "id": "c2b08e1b"
      },
      "source": [
        "## Converting Data Types\n",
        "\n",
        "When needed you can 'cast' a variable as a different string type (remember Python automatically assigns data type to a variable).\n",
        "\n",
        "We do this through casting functions:"
      ]
    },
    {
      "cell_type": "markdown",
      "id": "dbb0c35f",
      "metadata": {
        "id": "dbb0c35f"
      },
      "source": [
        "**`int()`**"
      ]
    },
    {
      "cell_type": "code",
      "execution_count": 26,
      "id": "39b9e5f5",
      "metadata": {
        "id": "39b9e5f5",
        "outputId": "234e0756-5427-4796-b02a-cebf3b641506",
        "colab": {
          "base_uri": "https://localhost:8080/"
        }
      },
      "outputs": [
        {
          "output_type": "execute_result",
          "data": {
            "text/plain": [
              "float"
            ]
          },
          "metadata": {},
          "execution_count": 26
        }
      ],
      "source": [
        "# create float variable\n",
        "var_float = 9.6\n",
        "type(var_float)"
      ]
    },
    {
      "cell_type": "code",
      "execution_count": 27,
      "id": "b6440326",
      "metadata": {
        "id": "b6440326",
        "outputId": "adb81d00-ddf4-40a2-87b8-10d93975ea39",
        "colab": {
          "base_uri": "https://localhost:8080/"
        }
      },
      "outputs": [
        {
          "output_type": "stream",
          "name": "stdout",
          "text": [
            "<class 'int'>\n"
          ]
        },
        {
          "output_type": "execute_result",
          "data": {
            "text/plain": [
              "9"
            ]
          },
          "metadata": {},
          "execution_count": 27
        }
      ],
      "source": [
        "# cast float to integer\n",
        "var_int = int(var_float)\n",
        "\n",
        "print(type(var_int))\n",
        "var_int"
      ]
    },
    {
      "cell_type": "markdown",
      "id": "7765a689",
      "metadata": {
        "id": "7765a689"
      },
      "source": [
        "**`float()`**"
      ]
    },
    {
      "cell_type": "code",
      "execution_count": 28,
      "id": "b052299d",
      "metadata": {
        "id": "b052299d",
        "outputId": "2094947c-f8fd-4422-d4db-9939d3473eeb",
        "colab": {
          "base_uri": "https://localhost:8080/"
        }
      },
      "outputs": [
        {
          "output_type": "execute_result",
          "data": {
            "text/plain": [
              "str"
            ]
          },
          "metadata": {},
          "execution_count": 28
        }
      ],
      "source": [
        "# create string variable\n",
        "var_str = '10.2'\n",
        "type(var_str)"
      ]
    },
    {
      "cell_type": "code",
      "execution_count": 29,
      "id": "3c617d79",
      "metadata": {
        "id": "3c617d79",
        "outputId": "07d18e02-d31d-43f5-a7b0-2574f40c1814",
        "colab": {
          "base_uri": "https://localhost:8080/"
        }
      },
      "outputs": [
        {
          "output_type": "stream",
          "name": "stdout",
          "text": [
            "<class 'float'>\n",
            "10.2\n"
          ]
        }
      ],
      "source": [
        "# cast string to float\n",
        "var_float = float(var_str)\n",
        "print(type(var_float))\n",
        "print(var_float)"
      ]
    },
    {
      "cell_type": "markdown",
      "id": "a39bd925",
      "metadata": {
        "id": "a39bd925"
      },
      "source": [
        "# Operators\n",
        "\n",
        "If variables are **nouns**, and values **meanings**, then operators are **verbs**.\n",
        "\n",
        "In effect, they are **elementary functions** that are expressed in sequential syntax.\n",
        "\n",
        "**Each data type is associated with a set of operators** that allow you to manipulate the data in way that makes sense for its type. Numeric data types are subject to mathematical operations, booleans to logical ones, and so forth.\n",
        "\n",
        "There are also **operations appropriate to structures**. For example, list-like things have membership.\n",
        "\n",
        "The relationship between types and operators is a microcosm of the relationship betweed data structures and algorithms. **Data structures imply algorithms and algorithms assume data structures.**\n",
        "\n",
        "The w3schools site has [a good summary](https://www.w3schools.com/python/python_operators.asp).\n"
      ]
    },
    {
      "cell_type": "markdown",
      "id": "62f47df4",
      "metadata": {
        "id": "62f47df4"
      },
      "source": [
        "## Numeric Operators"
      ]
    },
    {
      "cell_type": "markdown",
      "id": "36321606",
      "metadata": {
        "id": "36321606"
      },
      "source": [
        "Common: `+`, `-`, `*`, `/`\n",
        "\n",
        "\n",
        "\n",
        "Other operators:"
      ]
    },
    {
      "cell_type": "markdown",
      "id": "19c15a61",
      "metadata": {
        "id": "19c15a61"
      },
      "source": [
        "**floor division `//`**\n",
        "\n",
        "returns the largest integer less than or equal to the result"
      ]
    },
    {
      "cell_type": "code",
      "execution_count": 30,
      "id": "b2746f37",
      "metadata": {
        "id": "b2746f37",
        "outputId": "c45ca1ee-c5da-4935-f2ce-386c2366254e",
        "colab": {
          "base_uri": "https://localhost:8080/"
        }
      },
      "outputs": [
        {
          "output_type": "execute_result",
          "data": {
            "text/plain": [
              "2"
            ]
          },
          "metadata": {},
          "execution_count": 30
        }
      ],
      "source": [
        "5 // 2"
      ]
    },
    {
      "cell_type": "code",
      "execution_count": 31,
      "id": "54cd2cde",
      "metadata": {
        "id": "54cd2cde",
        "outputId": "ba657a35-05d5-4b20-9817-fb3a190fb391",
        "colab": {
          "base_uri": "https://localhost:8080/"
        }
      },
      "outputs": [
        {
          "output_type": "execute_result",
          "data": {
            "text/plain": [
              "-3"
            ]
          },
          "metadata": {},
          "execution_count": 31
        }
      ],
      "source": [
        "-5 // 2"
      ]
    },
    {
      "cell_type": "markdown",
      "id": "f760f61f",
      "metadata": {
        "id": "f760f61f"
      },
      "source": [
        "**modulus `%`**\n",
        "\n",
        "returns the remainder after a division operation"
      ]
    },
    {
      "cell_type": "code",
      "execution_count": 32,
      "id": "883ab576",
      "metadata": {
        "id": "883ab576",
        "outputId": "c8b215ab-3f89-45dc-eef4-55e9b4b0463b",
        "colab": {
          "base_uri": "https://localhost:8080/"
        }
      },
      "outputs": [
        {
          "output_type": "execute_result",
          "data": {
            "text/plain": [
              "1"
            ]
          },
          "metadata": {},
          "execution_count": 32
        }
      ],
      "source": [
        "5 % 2"
      ]
    },
    {
      "cell_type": "code",
      "execution_count": 33,
      "id": "5cd863fc",
      "metadata": {
        "id": "5cd863fc",
        "outputId": "cde42d99-df2e-45d2-c35b-45558443f79b",
        "colab": {
          "base_uri": "https://localhost:8080/"
        }
      },
      "outputs": [
        {
          "output_type": "stream",
          "name": "stdout",
          "text": [
            "2.75\n",
            "2.0\n",
            "1.5\n"
          ]
        }
      ],
      "source": [
        "print(5.5 / 2)\n",
        "print(5.5 // 2)\n",
        "print(5.5 % 2)"
      ]
    },
    {
      "cell_type": "markdown",
      "id": "f7b812d1",
      "metadata": {
        "id": "f7b812d1"
      },
      "source": [
        "**exponentiation `**` **"
      ]
    },
    {
      "cell_type": "code",
      "execution_count": 34,
      "id": "65646db4",
      "metadata": {
        "id": "65646db4",
        "outputId": "56f3912d-b1fa-422e-9fb9-c3f0dcf181cf",
        "colab": {
          "base_uri": "https://localhost:8080/"
        }
      },
      "outputs": [
        {
          "output_type": "execute_result",
          "data": {
            "text/plain": [
              "25"
            ]
          },
          "metadata": {},
          "execution_count": 34
        }
      ],
      "source": [
        "5**2"
      ]
    },
    {
      "cell_type": "markdown",
      "id": "d4e24480",
      "metadata": {
        "id": "d4e24480"
      },
      "source": [
        "## String Operators"
      ]
    },
    {
      "cell_type": "markdown",
      "id": "beddac76",
      "metadata": {
        "id": "beddac76"
      },
      "source": [
        "**concatenation `+`**"
      ]
    },
    {
      "cell_type": "code",
      "execution_count": 35,
      "id": "1b8c472f",
      "metadata": {
        "id": "1b8c472f",
        "outputId": "d9ddddb1-5553-438c-a148-980da56115af",
        "colab": {
          "base_uri": "https://localhost:8080/",
          "height": 35
        }
      },
      "outputs": [
        {
          "output_type": "execute_result",
          "data": {
            "text/plain": [
              "'Hello world!Goodbye world!'"
            ],
            "application/vnd.google.colaboratory.intrinsic+json": {
              "type": "string"
            }
          },
          "metadata": {},
          "execution_count": 35
        }
      ],
      "source": [
        "string1 = 'Hello world!'\n",
        "string2 = 'Goodbye world!'\n",
        "\n",
        "string1 + string2"
      ]
    },
    {
      "cell_type": "code",
      "execution_count": 36,
      "id": "6d02ece1",
      "metadata": {
        "id": "6d02ece1",
        "outputId": "357a562f-b165-4879-a475-de4ae388813f",
        "colab": {
          "base_uri": "https://localhost:8080/",
          "height": 35
        }
      },
      "outputs": [
        {
          "output_type": "execute_result",
          "data": {
            "text/plain": [
              "'Hello world!Goodbye world! Hello again!'"
            ],
            "application/vnd.google.colaboratory.intrinsic+json": {
              "type": "string"
            }
          },
          "metadata": {},
          "execution_count": 36
        }
      ],
      "source": [
        "string1 + string2 + ' Hello again!'"
      ]
    },
    {
      "cell_type": "code",
      "execution_count": 37,
      "id": "ffb4dd10",
      "metadata": {
        "id": "ffb4dd10",
        "outputId": "67c31c63-b357-4443-fcb0-67c245be8d8f",
        "colab": {
          "base_uri": "https://localhost:8080/"
        }
      },
      "outputs": [
        {
          "output_type": "stream",
          "name": "stdout",
          "text": [
            "Hello world!Goodbye world! Hello again!\n"
          ]
        }
      ],
      "source": [
        "print(string1 + string2 + ' Hello again!')"
      ]
    },
    {
      "cell_type": "markdown",
      "id": "e65c547f",
      "metadata": {
        "id": "e65c547f"
      },
      "source": [
        "**repetition `*`**"
      ]
    },
    {
      "cell_type": "code",
      "execution_count": 38,
      "id": "c7f6ce3c",
      "metadata": {
        "id": "c7f6ce3c",
        "outputId": "aa63f0e0-e5e2-477f-f104-5f50bb57c31c",
        "colab": {
          "base_uri": "https://localhost:8080/",
          "height": 35
        }
      },
      "outputs": [
        {
          "output_type": "execute_result",
          "data": {
            "text/plain": [
              "'Hello world!Hello world!'"
            ],
            "application/vnd.google.colaboratory.intrinsic+json": {
              "type": "string"
            }
          },
          "metadata": {},
          "execution_count": 38
        }
      ],
      "source": [
        "string1 * 2"
      ]
    },
    {
      "cell_type": "code",
      "execution_count": 39,
      "id": "b489cdeb",
      "metadata": {
        "id": "b489cdeb",
        "outputId": "58954523-0c90-4b21-9656-3e5a554b061a",
        "colab": {
          "base_uri": "https://localhost:8080/"
        }
      },
      "outputs": [
        {
          "output_type": "stream",
          "name": "stdout",
          "text": [
            "Hello world!\n",
            "Hello world!\n",
            "Hello world!\n",
            "Hello world!\n",
            "Hello world!\n",
            "\n"
          ]
        }
      ],
      "source": [
        "# '\\n' moves to the next line (like hitting the return button)\n",
        "print((string1 + '\\n') * 5)"
      ]
    },
    {
      "cell_type": "markdown",
      "id": "1eb2f0fb",
      "metadata": {
        "id": "1eb2f0fb"
      },
      "source": [
        "**subsetting a string**"
      ]
    },
    {
      "cell_type": "code",
      "execution_count": 40,
      "id": "f920bead",
      "metadata": {
        "id": "f920bead",
        "outputId": "002fae9f-d45a-4dd5-9f04-724be28ddc7f",
        "colab": {
          "base_uri": "https://localhost:8080/",
          "height": 35
        }
      },
      "outputs": [
        {
          "output_type": "execute_result",
          "data": {
            "text/plain": [
              "'He'"
            ],
            "application/vnd.google.colaboratory.intrinsic+json": {
              "type": "string"
            }
          },
          "metadata": {},
          "execution_count": 40
        }
      ],
      "source": [
        "# extract the first 2 characters\n",
        "string1[:2]"
      ]
    },
    {
      "cell_type": "code",
      "execution_count": 41,
      "id": "02395bc2",
      "metadata": {
        "id": "02395bc2",
        "outputId": "89e6071f-b698-43ed-a591-a5fc6c478522",
        "colab": {
          "base_uri": "https://localhost:8080/",
          "height": 35
        }
      },
      "outputs": [
        {
          "output_type": "execute_result",
          "data": {
            "text/plain": [
              "'d!'"
            ],
            "application/vnd.google.colaboratory.intrinsic+json": {
              "type": "string"
            }
          },
          "metadata": {},
          "execution_count": 41
        }
      ],
      "source": [
        "# extract the last 2 characters\n",
        "string1[-2:]"
      ]
    },
    {
      "cell_type": "code",
      "execution_count": 42,
      "id": "11b5f9fe",
      "metadata": {
        "id": "11b5f9fe",
        "outputId": "372dc745-7ea3-4e34-979c-68f373fc3d3c",
        "colab": {
          "base_uri": "https://localhost:8080/"
        }
      },
      "outputs": [
        {
          "output_type": "execute_result",
          "data": {
            "text/plain": [
              "False"
            ]
          },
          "metadata": {},
          "execution_count": 42
        }
      ],
      "source": [
        "string1.startswith('o')"
      ]
    },
    {
      "cell_type": "code",
      "execution_count": 43,
      "id": "bfe6abad",
      "metadata": {
        "id": "bfe6abad",
        "outputId": "c43ee848-bc6b-455b-cde8-37d7281038c5",
        "colab": {
          "base_uri": "https://localhost:8080/"
        }
      },
      "outputs": [
        {
          "output_type": "execute_result",
          "data": {
            "text/plain": [
              "True"
            ]
          },
          "metadata": {},
          "execution_count": 43
        }
      ],
      "source": [
        "string1.endswith('!')"
      ]
    },
    {
      "cell_type": "markdown",
      "id": "2b532933",
      "metadata": {
        "id": "2b532933"
      },
      "source": [
        "**Python strings are *immutable* - cannot reassign elements**"
      ]
    },
    {
      "cell_type": "code",
      "execution_count": null,
      "id": "3eeaf3a4",
      "metadata": {
        "id": "3eeaf3a4"
      },
      "outputs": [],
      "source": [
        "string1[0] = 'Y'"
      ]
    },
    {
      "cell_type": "markdown",
      "id": "74ab041a",
      "metadata": {
        "id": "74ab041a"
      },
      "source": [
        "## Comparison Operators\n",
        "\n",
        "comparisons are questions and return boolean values"
      ]
    },
    {
      "cell_type": "markdown",
      "id": "223926d9",
      "metadata": {
        "id": "223926d9"
      },
      "source": [
        "**equality `==`**"
      ]
    },
    {
      "cell_type": "code",
      "execution_count": null,
      "id": "238eba4f",
      "metadata": {
        "id": "238eba4f"
      },
      "outputs": [],
      "source": [
        "# numeric\n",
        "25 == 4**2 + 9"
      ]
    },
    {
      "cell_type": "code",
      "execution_count": null,
      "id": "bebcc082",
      "metadata": {
        "id": "bebcc082"
      },
      "outputs": [],
      "source": [
        "# string\n",
        "string1 == string2"
      ]
    },
    {
      "cell_type": "markdown",
      "id": "bd41f67a",
      "metadata": {
        "id": "bd41f67a"
      },
      "source": [
        "**inequality `!=`**"
      ]
    },
    {
      "cell_type": "code",
      "execution_count": null,
      "id": "3f493f41",
      "metadata": {
        "id": "3f493f41"
      },
      "outputs": [],
      "source": [
        "# numeric\n",
        "25 != 20 + 6"
      ]
    },
    {
      "cell_type": "code",
      "execution_count": null,
      "id": "d3dcab60",
      "metadata": {
        "id": "d3dcab60"
      },
      "outputs": [],
      "source": [
        "# string\n",
        "string1 != string2"
      ]
    },
    {
      "cell_type": "markdown",
      "id": "85b81fc4",
      "metadata": {
        "id": "85b81fc4"
      },
      "source": [
        "**greater than `>`, less than `<`**"
      ]
    },
    {
      "cell_type": "code",
      "execution_count": null,
      "id": "66ae66a2",
      "metadata": {
        "id": "66ae66a2"
      },
      "outputs": [],
      "source": [
        "20 > 10"
      ]
    },
    {
      "cell_type": "code",
      "execution_count": null,
      "id": "cbc90b9f",
      "metadata": {
        "id": "cbc90b9f"
      },
      "outputs": [],
      "source": [
        "2*10 >= 20"
      ]
    },
    {
      "cell_type": "code",
      "execution_count": null,
      "id": "c9dc02ef",
      "metadata": {
        "id": "c9dc02ef"
      },
      "outputs": [],
      "source": [
        "3%2 < 5"
      ]
    },
    {
      "cell_type": "code",
      "execution_count": null,
      "id": "822d153c",
      "metadata": {
        "id": "822d153c"
      },
      "outputs": [],
      "source": [
        "-3 <= 0"
      ]
    },
    {
      "cell_type": "markdown",
      "id": "6bc15d1a",
      "metadata": {
        "id": "6bc15d1a"
      },
      "source": [
        "## Logical Operators"
      ]
    },
    {
      "cell_type": "markdown",
      "id": "0852b502",
      "metadata": {
        "id": "0852b502"
      },
      "source": [
        "**conjunctions `and`, `or`, `not`**\n",
        "\n",
        "Note the we group comparisons with parentheses"
      ]
    },
    {
      "cell_type": "code",
      "execution_count": null,
      "id": "94c739af",
      "metadata": {
        "id": "94c739af"
      },
      "outputs": [],
      "source": [
        "x = 10\n",
        "\n",
        "(x % 10 == 0) or (x < -1)"
      ]
    },
    {
      "cell_type": "code",
      "execution_count": null,
      "id": "c965353f",
      "metadata": {
        "id": "c965353f"
      },
      "outputs": [],
      "source": [
        "(x % 10 == 0) and (x < -1)"
      ]
    },
    {
      "cell_type": "code",
      "execution_count": null,
      "id": "0a5c8923",
      "metadata": {
        "id": "0a5c8923"
      },
      "outputs": [],
      "source": [
        "not x == 5"
      ]
    },
    {
      "cell_type": "markdown",
      "id": "2b2c6385",
      "metadata": {
        "id": "2b2c6385"
      },
      "source": [
        "**Identity `is`**\n",
        "\n",
        "The `is` keyword is used to test if two variables refer to the same object.\n",
        "\n",
        "The test returns `True` if the two objects are the same object.\n",
        "\n",
        "The test returns False if they are not the same object, even if the two objects are 100% equal.\n",
        "\n",
        "Use the `==` operator to test if two variables are equal.\n",
        "\n",
        "-- from [W3Schools on Identity Operators](https://www.w3schools.com/python/gloss_python_identity_operators.asp)"
      ]
    },
    {
      "cell_type": "code",
      "execution_count": null,
      "id": "1fffb03e",
      "metadata": {
        "id": "1fffb03e"
      },
      "outputs": [],
      "source": [
        "x = ['apple', 'banana']\n",
        "y = ['apple', 'banana']\n",
        "z = x"
      ]
    },
    {
      "cell_type": "code",
      "execution_count": null,
      "id": "7d1c3a7c",
      "metadata": {
        "id": "7d1c3a7c"
      },
      "outputs": [],
      "source": [
        "x is z"
      ]
    },
    {
      "cell_type": "code",
      "execution_count": null,
      "id": "3ad78cc4",
      "metadata": {
        "id": "3ad78cc4"
      },
      "outputs": [],
      "source": [
        "x is y"
      ]
    },
    {
      "cell_type": "code",
      "execution_count": null,
      "id": "98ea6ee2",
      "metadata": {
        "id": "98ea6ee2"
      },
      "outputs": [],
      "source": [
        "x == y"
      ]
    },
    {
      "cell_type": "code",
      "execution_count": null,
      "id": "c652f2de",
      "metadata": {
        "id": "c652f2de"
      },
      "outputs": [],
      "source": [
        "x == z"
      ]
    },
    {
      "cell_type": "markdown",
      "id": "47f381d0",
      "metadata": {
        "id": "47f381d0"
      },
      "source": [
        "**`isinstance()`**\n",
        "\n",
        "function returns `True` if the specified object is of the specified type, otherwise `False`"
      ]
    },
    {
      "cell_type": "code",
      "execution_count": null,
      "id": "fc6373f1",
      "metadata": {
        "id": "fc6373f1"
      },
      "outputs": [],
      "source": [
        "#example\n",
        "\n",
        "isinstance(\"Hello\", (float, int, str))"
      ]
    },
    {
      "cell_type": "code",
      "execution_count": null,
      "id": "ffc578d5",
      "metadata": {
        "id": "ffc578d5"
      },
      "outputs": [],
      "source": [
        "#example\n",
        "isinstance(\"Hello\", int)"
      ]
    },
    {
      "cell_type": "markdown",
      "id": "eac52c21",
      "metadata": {
        "id": "eac52c21"
      },
      "source": [
        "## Unary Operators\n",
        "\n",
        "Python offers a short-cut for most operators. When updating a variable with an operation to that variable, such as:\n",
        "```python\n",
        "my_var = my_var + 1  # Incrementing\n",
        "```\n",
        "\n",
        "You can do this:\n",
        "```python\n",
        "my_var += 1\n",
        "```"
      ]
    },
    {
      "cell_type": "markdown",
      "id": "52ffc918",
      "metadata": {
        "id": "52ffc918"
      },
      "source": [
        "Python supports many operators this way. Here are some:\n",
        "```python\n",
        "a -= a\n",
        "a \\= a\n",
        "a \\\\= a\n",
        "a %= a\n",
        "a *= a\n",
        "a **= a\n",
        "```"
      ]
    },
    {
      "cell_type": "markdown",
      "id": "aa92ce5d",
      "metadata": {
        "id": "aa92ce5d"
      },
      "source": [
        "## Expressions\n",
        "\n",
        "Variables, literal values, and operators are the building blocks of expressions.\n",
        "\n",
        "For example, the following combines three operators and four variables:"
      ]
    },
    {
      "cell_type": "code",
      "execution_count": null,
      "id": "5058a10b",
      "metadata": {
        "id": "5058a10b"
      },
      "outputs": [],
      "source": [
        "1 + 2 * 3 / 2"
      ]
    },
    {
      "cell_type": "markdown",
      "id": "bb74c18b",
      "metadata": {
        "id": "bb74c18b"
      },
      "source": [
        "Python employs **operator precedence** when evaluating expressions:\n",
        "\n",
        "```\n",
        "P – Parentheses\n",
        "E – Exponentiation\n",
        "M – Multiplication\n",
        "D – Division\n",
        "A – Addition\n",
        "S – Subtraction\n",
        "```"
      ]
    },
    {
      "cell_type": "code",
      "execution_count": null,
      "id": "febc7986",
      "metadata": {
        "id": "febc7986"
      },
      "outputs": [],
      "source": [
        "(1 + 2) * (3 / 2)"
      ]
    },
    {
      "cell_type": "markdown",
      "id": "fa23e2ea",
      "metadata": {
        "id": "fa23e2ea"
      },
      "source": [
        "Variables and literal values can be combined:"
      ]
    },
    {
      "cell_type": "code",
      "execution_count": null,
      "id": "775ccb3e",
      "metadata": {
        "id": "775ccb3e"
      },
      "outputs": [],
      "source": [
        "y = 5\n",
        "m = 2.5\n",
        "b = 10"
      ]
    },
    {
      "cell_type": "code",
      "execution_count": null,
      "id": "f249f060",
      "metadata": {
        "id": "f249f060"
      },
      "outputs": [],
      "source": [
        "y = m * 10 + b\n",
        "y"
      ]
    },
    {
      "cell_type": "code",
      "execution_count": null,
      "id": "cd446cc6",
      "metadata": {
        "id": "cd446cc6"
      },
      "outputs": [],
      "source": [
        "y = m * 5 + b\n",
        "y"
      ]
    },
    {
      "cell_type": "markdown",
      "id": "fe3afbe8",
      "metadata": {
        "id": "fe3afbe8"
      },
      "source": [
        "Expresssions can be very complex.\n",
        "\n",
        "Expressions evaluate to a value, just as single variables do.\n",
        "\n",
        "Therefore, they can be put anywhere a value is accepted."
      ]
    },
    {
      "cell_type": "code",
      "execution_count": null,
      "id": "5ef7fe16",
      "metadata": {
        "id": "5ef7fe16"
      },
      "outputs": [],
      "source": [
        "int((y + 10) ** 8)"
      ]
    },
    {
      "cell_type": "code",
      "execution_count": null,
      "id": "7e1279ab",
      "metadata": {
        "id": "7e1279ab"
      },
      "outputs": [],
      "source": []
    }
  ],
  "metadata": {
    "kernelspec": {
      "display_name": "base",
      "language": "python",
      "name": "python3"
    },
    "language_info": {
      "codemirror_mode": {
        "name": "ipython",
        "version": 3
      },
      "file_extension": ".py",
      "mimetype": "text/x-python",
      "name": "python",
      "nbconvert_exporter": "python",
      "pygments_lexer": "ipython3",
      "version": "3.9.12"
    },
    "vscode": {
      "interpreter": {
        "hash": "256476f871f41dd9f410a4535ba940f788da543573a25285757e797fedf9c871"
      }
    },
    "colab": {
      "provenance": []
    }
  },
  "nbformat": 4,
  "nbformat_minor": 5
}